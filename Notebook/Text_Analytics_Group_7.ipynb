{
  "nbformat": 4,
  "nbformat_minor": 0,
  "metadata": {
    "colab": {
      "provenance": []
    },
    "kernelspec": {
      "name": "python3",
      "display_name": "Python 3"
    },
    "language_info": {
      "name": "python"
    }
  },
  "cells": [
    {
      "cell_type": "markdown",
      "source": [
        "# 1. Preprocessing"
      ],
      "metadata": {
        "id": "peslcArmKKUo"
      }
    },
    {
      "cell_type": "code",
      "source": [
        "# Load package\n",
        "import pandas as pd\n",
        "import re\n",
        "import nltk\n",
        "nltk.download('averaged_perceptron_tagger')\n",
        "\n",
        "from nltk.corpus import stopwords\n",
        "from nltk.stem import WordNetLemmatizer, PorterStemmer, SnowballStemmer\n",
        "from nltk import word_tokenize\n",
        "nltk.download('punkt')\n",
        "nltk.download('stopwords')\n",
        "nltk.download('wordnet')\n",
        "\n",
        "import numpy as np\n",
        "from gensim.models import KeyedVectors\n",
        "from gensim.models import Word2Vec"
      ],
      "metadata": {
        "id": "t2lZsZReJ1JL",
        "colab": {
          "base_uri": "https://localhost:8080/"
        },
        "outputId": "1ef41ae7-16f8-4043-b143-6ab331805836"
      },
      "execution_count": 1,
      "outputs": [
        {
          "output_type": "stream",
          "name": "stderr",
          "text": [
            "[nltk_data] Downloading package averaged_perceptron_tagger to\n",
            "[nltk_data]     /root/nltk_data...\n",
            "[nltk_data]   Unzipping taggers/averaged_perceptron_tagger.zip.\n",
            "[nltk_data] Downloading package punkt to /root/nltk_data...\n",
            "[nltk_data]   Unzipping tokenizers/punkt.zip.\n",
            "[nltk_data] Downloading package stopwords to /root/nltk_data...\n",
            "[nltk_data]   Unzipping corpora/stopwords.zip.\n",
            "[nltk_data] Downloading package wordnet to /root/nltk_data...\n"
          ]
        }
      ]
    },
    {
      "cell_type": "code",
      "execution_count": 7,
      "metadata": {
        "id": "aBj1jGG0JyIg",
        "colab": {
          "base_uri": "https://localhost:8080/"
        },
        "outputId": "8e3aef06-b4ea-4d80-d793-16ff9b44a525"
      },
      "outputs": [
        {
          "output_type": "stream",
          "name": "stdout",
          "text": [
            "      brand                                              title  price  \\\n",
            "0     Apple  Apple iPhone 15 Pro Max (256 GB) - Black Titanium  1,069   \n",
            "1     Apple  Apple iPhone 15 Pro Max (256 GB) - Black Titanium  1,069   \n",
            "2     Apple  Apple iPhone 15 Pro Max (256 GB) - Black Titanium  1,069   \n",
            "3     Apple  Apple iPhone 15 Pro Max (256 GB) - Black Titanium  1,069   \n",
            "4     Apple  Apple iPhone 15 Pro Max (256 GB) - Black Titanium  1,069   \n",
            "...     ...                                                ...    ...   \n",
            "1393   OPPO  OPPO A77 5G Smartphone, MediaTek Dimensity 810...    198   \n",
            "1394   OPPO  OPPO A77 5G Smartphone, MediaTek Dimensity 810...    198   \n",
            "1395   OPPO  OPPO A77 5G Smartphone, MediaTek Dimensity 810...    198   \n",
            "1396   OPPO  OPPO A77 5G Smartphone, MediaTek Dimensity 810...    198   \n",
            "1397   OPPO  OPPO A77 5G Smartphone, MediaTek Dimensity 810...    198   \n",
            "\n",
            "                                                    url  \\\n",
            "0     https://www.amazon.co.uk/Apple-iPhone-Pro-Max-...   \n",
            "1     https://www.amazon.co.uk/Apple-iPhone-Pro-Max-...   \n",
            "2     https://www.amazon.co.uk/Apple-iPhone-Pro-Max-...   \n",
            "3     https://www.amazon.co.uk/Apple-iPhone-Pro-Max-...   \n",
            "4     https://www.amazon.co.uk/Apple-iPhone-Pro-Max-...   \n",
            "...                                                 ...   \n",
            "1393  https://www.amazon.co.uk/OPPO-Smartphone-Dimen...   \n",
            "1394  https://www.amazon.co.uk/OPPO-Smartphone-Dimen...   \n",
            "1395  https://www.amazon.co.uk/OPPO-Smartphone-Dimen...   \n",
            "1396  https://www.amazon.co.uk/OPPO-Smartphone-Dimen...   \n",
            "1397  https://www.amazon.co.uk/OPPO-Smartphone-Dimen...   \n",
            "\n",
            "                                           review_title  \\\n",
            "0                                          Really happy   \n",
            "1          IMO, the best premium mobile phone by far...   \n",
            "2                                    Quick,Great camera   \n",
            "3                                           Nice design   \n",
            "4     The screen freezes and I charge the battery ev...   \n",
            "...                                                 ...   \n",
            "1393                                  Great value phone   \n",
            "1394                                           OPPo a77   \n",
            "1395                            Well made piece of kit.   \n",
            "1396    Phone issues but seller customer service 5 star   \n",
            "1397                                        GOOD MOBILE   \n",
            "\n",
            "                                            review_text  review_rating  \\\n",
            "0     Upgraded from an iPhone 13 Pro Max. Normally g...              5   \n",
            "1     I'n a huge Apple fan with numerous Apple devic...              5   \n",
            "2                           Wife loves it obviously….\\n              5   \n",
            "3     The media could not be loaded.\\n              ...              5   \n",
            "4     I bought an IPhone 15 pro max in December. The...              1   \n",
            "...                                                 ...            ...   \n",
            "1393                            Brilliant value phone\\n              5   \n",
            "1394  Bought as gift great phone? Some app don't wor...              5   \n",
            "1395  Almost immediately updated to Android 13.  Thu...              5   \n",
            "1396  Phone was a nightmare- took hrs to download fo...              1   \n",
            "1397                               Good for the price\\n              4   \n",
            "\n",
            "     review_date  overall_rating  \n",
            "0      09-Apr-24             4.5  \n",
            "1      20-Feb-24             4.5  \n",
            "2      21-Apr-24             4.5  \n",
            "3      04-Mar-24             4.5  \n",
            "4      20-Jan-24             4.5  \n",
            "...          ...             ...  \n",
            "1393   24-Nov-23             4.4  \n",
            "1394   27-Oct-23             4.4  \n",
            "1395   02-Sep-23             4.4  \n",
            "1396   06-Mar-24             4.4  \n",
            "1397   02-Jan-24             4.4  \n",
            "\n",
            "[1398 rows x 9 columns]\n"
          ]
        }
      ],
      "source": [
        "# Loading data\n",
        "df = pd.read_csv(\"reviews_data.csv\")\n",
        "\n",
        "print(df)"
      ]
    },
    {
      "cell_type": "code",
      "source": [
        "# Define preprocess function\n",
        "lemmatizer = WordNetLemmatizer()\n",
        "def preprocess_text(text):\n",
        "    if isinstance(text, str):  # Check if text is a string\n",
        "        # Lowercase\n",
        "        text = text.lower()\n",
        "        # Tokenize\n",
        "        tokens = nltk.word_tokenize(text)\n",
        "        # Part-of-speech tagging\n",
        "        tagged_tokens = nltk.pos_tag(tokens)\n",
        "        # Filter tokens that are nouns or adjectives\n",
        "        # NN* for nouns, JJ* for adjectives\n",
        "        tokens = [word for word, tag in tagged_tokens if tag in ['NN', 'NNS', 'NNP', 'NNPS', 'JJ', 'JJR', 'JJS']]\n",
        "        # Remove stopwords\n",
        "        stop_words = set(stopwords.words('english'))\n",
        "        tokens = [token for token in tokens if token not in stop_words and token.isalpha()]\n",
        "        # Lemmatize\n",
        "        tokens = [lemmatizer.lemmatize(token) for token in tokens]\n",
        "        return tokens, tagged_tokens\n",
        "    else:\n",
        "        return [], []\n",
        "\n",
        "\n"
      ],
      "metadata": {
        "id": "pvj6QsinMeCv"
      },
      "execution_count": 9,
      "outputs": []
    },
    {
      "cell_type": "code",
      "source": [
        "# Apply preprocess_text function to review_text column\n",
        "df['review_text'], df['tagged_tokens'] = zip(*df['review_text'].apply(preprocess_text))\n"
      ],
      "metadata": {
        "id": "KAf1CltJMzO3"
      },
      "execution_count": 10,
      "outputs": []
    },
    {
      "cell_type": "code",
      "source": [
        "print(df)"
      ],
      "metadata": {
        "colab": {
          "base_uri": "https://localhost:8080/"
        },
        "id": "ithl7gkwYim7",
        "outputId": "efe59f24-15a9-47df-cc82-c658bf0930bc"
      },
      "execution_count": 11,
      "outputs": [
        {
          "output_type": "stream",
          "name": "stdout",
          "text": [
            "      brand                                              title  price  \\\n",
            "0     Apple  Apple iPhone 15 Pro Max (256 GB) - Black Titanium  1,069   \n",
            "1     Apple  Apple iPhone 15 Pro Max (256 GB) - Black Titanium  1,069   \n",
            "2     Apple  Apple iPhone 15 Pro Max (256 GB) - Black Titanium  1,069   \n",
            "3     Apple  Apple iPhone 15 Pro Max (256 GB) - Black Titanium  1,069   \n",
            "4     Apple  Apple iPhone 15 Pro Max (256 GB) - Black Titanium  1,069   \n",
            "...     ...                                                ...    ...   \n",
            "1393   OPPO  OPPO A77 5G Smartphone, MediaTek Dimensity 810...    198   \n",
            "1394   OPPO  OPPO A77 5G Smartphone, MediaTek Dimensity 810...    198   \n",
            "1395   OPPO  OPPO A77 5G Smartphone, MediaTek Dimensity 810...    198   \n",
            "1396   OPPO  OPPO A77 5G Smartphone, MediaTek Dimensity 810...    198   \n",
            "1397   OPPO  OPPO A77 5G Smartphone, MediaTek Dimensity 810...    198   \n",
            "\n",
            "                                                    url  \\\n",
            "0     https://www.amazon.co.uk/Apple-iPhone-Pro-Max-...   \n",
            "1     https://www.amazon.co.uk/Apple-iPhone-Pro-Max-...   \n",
            "2     https://www.amazon.co.uk/Apple-iPhone-Pro-Max-...   \n",
            "3     https://www.amazon.co.uk/Apple-iPhone-Pro-Max-...   \n",
            "4     https://www.amazon.co.uk/Apple-iPhone-Pro-Max-...   \n",
            "...                                                 ...   \n",
            "1393  https://www.amazon.co.uk/OPPO-Smartphone-Dimen...   \n",
            "1394  https://www.amazon.co.uk/OPPO-Smartphone-Dimen...   \n",
            "1395  https://www.amazon.co.uk/OPPO-Smartphone-Dimen...   \n",
            "1396  https://www.amazon.co.uk/OPPO-Smartphone-Dimen...   \n",
            "1397  https://www.amazon.co.uk/OPPO-Smartphone-Dimen...   \n",
            "\n",
            "                                           review_title  \\\n",
            "0                                          Really happy   \n",
            "1          IMO, the best premium mobile phone by far...   \n",
            "2                                    Quick,Great camera   \n",
            "3                                           Nice design   \n",
            "4     The screen freezes and I charge the battery ev...   \n",
            "...                                                 ...   \n",
            "1393                                  Great value phone   \n",
            "1394                                           OPPo a77   \n",
            "1395                            Well made piece of kit.   \n",
            "1396    Phone issues but seller customer service 5 star   \n",
            "1397                                        GOOD MOBILE   \n",
            "\n",
            "                                            review_text  review_rating  \\\n",
            "0     [iphone, pro, max, contract, phone, amazon, mo...              5   \n",
            "1     [huge, apple, fan, numerous, apple, device, ho...              5   \n",
            "2                                                [wife]              5   \n",
            "3     [medium, heart, apple, user, big, fun, iphone,...              5   \n",
            "4     [iphone, pro, max, december, phone, month, dif...              1   \n",
            "...                                                 ...            ...   \n",
            "1393                          [brilliant, value, phone]              5   \n",
            "1394  [gift, great, phone, app, androiddoes, oppo, p...              5   \n",
            "1395  [updated, thumbprint, work, battery, better, o...              5   \n",
            "1396  [phone, hr, initial, setup, many, pre, initial...              1   \n",
            "1397                                      [good, price]              4   \n",
            "\n",
            "     review_date  overall_rating  \\\n",
            "0      09-Apr-24             4.5   \n",
            "1      20-Feb-24             4.5   \n",
            "2      21-Apr-24             4.5   \n",
            "3      04-Mar-24             4.5   \n",
            "4      20-Jan-24             4.5   \n",
            "...          ...             ...   \n",
            "1393   24-Nov-23             4.4   \n",
            "1394   27-Oct-23             4.4   \n",
            "1395   02-Sep-23             4.4   \n",
            "1396   06-Mar-24             4.4   \n",
            "1397   02-Jan-24             4.4   \n",
            "\n",
            "                                          tagged_tokens  \n",
            "0     [(upgraded, VBN), (from, IN), (an, DT), (iphon...  \n",
            "1     [(i'n, VB), (a, DT), (huge, JJ), (apple, NN), ...  \n",
            "2     [(wife, NN), (loves, VBZ), (it, PRP), (obvious...  \n",
            "3     [(the, DT), (media, NNS), (could, MD), (not, R...  \n",
            "4     [(i, NN), (bought, VBD), (an, DT), (iphone, NN...  \n",
            "...                                                 ...  \n",
            "1393        [(brilliant, JJ), (value, NN), (phone, NN)]  \n",
            "1394  [(bought, VBN), (as, IN), (gift, NN), (great, ...  \n",
            "1395  [(almost, RB), (immediately, RB), (updated, JJ...  \n",
            "1396  [(phone, NN), (was, VBD), (a, DT), (nightmare-...  \n",
            "1397    [(good, JJ), (for, IN), (the, DT), (price, NN)]  \n",
            "\n",
            "[1398 rows x 10 columns]\n"
          ]
        }
      ]
    },
    {
      "cell_type": "markdown",
      "source": [
        "# Aspect Extraction"
      ],
      "metadata": {
        "id": "D2zeCAZ3PNy_"
      }
    },
    {
      "cell_type": "code",
      "source": [
        "!python run_model.py -mode train -model_checkpoint allenai/tk-instruct-base-def-pos -experiment_name atsc_check -task atsc -output_dir Models -inst_type 2 -id_tr_data_path Dataset/reviews_data.csv -id_te_data_path Dataset/reviews_data.csv -per_device_train_batch_size 16 -per_device_eval_batch_size 16 -num_train_epochs 4\n"
      ],
      "metadata": {
        "colab": {
          "base_uri": "https://localhost:8080/"
        },
        "id": "fzz4xzx4NAtA",
        "outputId": "51a9ac29-9333-4a0d-8b2c-83386ae19d23"
      },
      "execution_count": 22,
      "outputs": [
        {
          "output_type": "stream",
          "name": "stdout",
          "text": [
            "Traceback (most recent call last):\n",
            "  File \"/content/run_model.py\", line 7, in <module>\n",
            "    from InstructABSA.data_prep import DatasetLoader\n",
            "ModuleNotFoundError: No module named 'InstructABSA'\n"
          ]
        }
      ]
    },
    {
      "cell_type": "code",
      "source": [
        "if IN_COLAB:\n",
        "  !pip install transformers\n",
        "  !pip install datasets\n",
        "  !pip install evaluate\n",
        "  !pip install sentencepiece\n",
        "  !pip install InstructABSA"
      ],
      "metadata": {
        "colab": {
          "base_uri": "https://localhost:8080/"
        },
        "id": "hyGh1ohDOIhy",
        "outputId": "1d27534e-dc24-459e-a051-1527036a080b"
      },
      "execution_count": 26,
      "outputs": [
        {
          "output_type": "stream",
          "name": "stdout",
          "text": [
            "Requirement already satisfied: transformers in /usr/local/lib/python3.10/dist-packages (4.40.1)\n",
            "Requirement already satisfied: filelock in /usr/local/lib/python3.10/dist-packages (from transformers) (3.14.0)\n",
            "Requirement already satisfied: huggingface-hub<1.0,>=0.19.3 in /usr/local/lib/python3.10/dist-packages (from transformers) (0.23.0)\n",
            "Requirement already satisfied: numpy>=1.17 in /usr/local/lib/python3.10/dist-packages (from transformers) (1.25.2)\n",
            "Requirement already satisfied: packaging>=20.0 in /usr/local/lib/python3.10/dist-packages (from transformers) (24.0)\n",
            "Requirement already satisfied: pyyaml>=5.1 in /usr/local/lib/python3.10/dist-packages (from transformers) (6.0.1)\n",
            "Requirement already satisfied: regex!=2019.12.17 in /usr/local/lib/python3.10/dist-packages (from transformers) (2023.12.25)\n",
            "Requirement already satisfied: requests in /usr/local/lib/python3.10/dist-packages (from transformers) (2.31.0)\n",
            "Requirement already satisfied: tokenizers<0.20,>=0.19 in /usr/local/lib/python3.10/dist-packages (from transformers) (0.19.1)\n",
            "Requirement already satisfied: safetensors>=0.4.1 in /usr/local/lib/python3.10/dist-packages (from transformers) (0.4.3)\n",
            "Requirement already satisfied: tqdm>=4.27 in /usr/local/lib/python3.10/dist-packages (from transformers) (4.66.4)\n",
            "Requirement already satisfied: fsspec>=2023.5.0 in /usr/local/lib/python3.10/dist-packages (from huggingface-hub<1.0,>=0.19.3->transformers) (2023.6.0)\n",
            "Requirement already satisfied: typing-extensions>=3.7.4.3 in /usr/local/lib/python3.10/dist-packages (from huggingface-hub<1.0,>=0.19.3->transformers) (4.11.0)\n",
            "Requirement already satisfied: charset-normalizer<4,>=2 in /usr/local/lib/python3.10/dist-packages (from requests->transformers) (3.3.2)\n",
            "Requirement already satisfied: idna<4,>=2.5 in /usr/local/lib/python3.10/dist-packages (from requests->transformers) (3.7)\n",
            "Requirement already satisfied: urllib3<3,>=1.21.1 in /usr/local/lib/python3.10/dist-packages (from requests->transformers) (2.0.7)\n",
            "Requirement already satisfied: certifi>=2017.4.17 in /usr/local/lib/python3.10/dist-packages (from requests->transformers) (2024.2.2)\n",
            "Requirement already satisfied: datasets in /usr/local/lib/python3.10/dist-packages (2.19.1)\n",
            "Requirement already satisfied: filelock in /usr/local/lib/python3.10/dist-packages (from datasets) (3.14.0)\n",
            "Requirement already satisfied: numpy>=1.17 in /usr/local/lib/python3.10/dist-packages (from datasets) (1.25.2)\n",
            "Requirement already satisfied: pyarrow>=12.0.0 in /usr/local/lib/python3.10/dist-packages (from datasets) (14.0.2)\n",
            "Requirement already satisfied: pyarrow-hotfix in /usr/local/lib/python3.10/dist-packages (from datasets) (0.6)\n",
            "Requirement already satisfied: dill<0.3.9,>=0.3.0 in /usr/local/lib/python3.10/dist-packages (from datasets) (0.3.8)\n",
            "Requirement already satisfied: pandas in /usr/local/lib/python3.10/dist-packages (from datasets) (2.0.3)\n",
            "Requirement already satisfied: requests>=2.19.0 in /usr/local/lib/python3.10/dist-packages (from datasets) (2.31.0)\n",
            "Requirement already satisfied: tqdm>=4.62.1 in /usr/local/lib/python3.10/dist-packages (from datasets) (4.66.4)\n",
            "Requirement already satisfied: xxhash in /usr/local/lib/python3.10/dist-packages (from datasets) (3.4.1)\n",
            "Requirement already satisfied: multiprocess in /usr/local/lib/python3.10/dist-packages (from datasets) (0.70.16)\n",
            "Requirement already satisfied: fsspec[http]<=2024.3.1,>=2023.1.0 in /usr/local/lib/python3.10/dist-packages (from datasets) (2023.6.0)\n",
            "Requirement already satisfied: aiohttp in /usr/local/lib/python3.10/dist-packages (from datasets) (3.9.5)\n",
            "Requirement already satisfied: huggingface-hub>=0.21.2 in /usr/local/lib/python3.10/dist-packages (from datasets) (0.23.0)\n",
            "Requirement already satisfied: packaging in /usr/local/lib/python3.10/dist-packages (from datasets) (24.0)\n",
            "Requirement already satisfied: pyyaml>=5.1 in /usr/local/lib/python3.10/dist-packages (from datasets) (6.0.1)\n",
            "Requirement already satisfied: aiosignal>=1.1.2 in /usr/local/lib/python3.10/dist-packages (from aiohttp->datasets) (1.3.1)\n",
            "Requirement already satisfied: attrs>=17.3.0 in /usr/local/lib/python3.10/dist-packages (from aiohttp->datasets) (23.2.0)\n",
            "Requirement already satisfied: frozenlist>=1.1.1 in /usr/local/lib/python3.10/dist-packages (from aiohttp->datasets) (1.4.1)\n",
            "Requirement already satisfied: multidict<7.0,>=4.5 in /usr/local/lib/python3.10/dist-packages (from aiohttp->datasets) (6.0.5)\n",
            "Requirement already satisfied: yarl<2.0,>=1.0 in /usr/local/lib/python3.10/dist-packages (from aiohttp->datasets) (1.9.4)\n",
            "Requirement already satisfied: async-timeout<5.0,>=4.0 in /usr/local/lib/python3.10/dist-packages (from aiohttp->datasets) (4.0.3)\n",
            "Requirement already satisfied: typing-extensions>=3.7.4.3 in /usr/local/lib/python3.10/dist-packages (from huggingface-hub>=0.21.2->datasets) (4.11.0)\n",
            "Requirement already satisfied: charset-normalizer<4,>=2 in /usr/local/lib/python3.10/dist-packages (from requests>=2.19.0->datasets) (3.3.2)\n",
            "Requirement already satisfied: idna<4,>=2.5 in /usr/local/lib/python3.10/dist-packages (from requests>=2.19.0->datasets) (3.7)\n",
            "Requirement already satisfied: urllib3<3,>=1.21.1 in /usr/local/lib/python3.10/dist-packages (from requests>=2.19.0->datasets) (2.0.7)\n",
            "Requirement already satisfied: certifi>=2017.4.17 in /usr/local/lib/python3.10/dist-packages (from requests>=2.19.0->datasets) (2024.2.2)\n",
            "Requirement already satisfied: python-dateutil>=2.8.2 in /usr/local/lib/python3.10/dist-packages (from pandas->datasets) (2.8.2)\n",
            "Requirement already satisfied: pytz>=2020.1 in /usr/local/lib/python3.10/dist-packages (from pandas->datasets) (2023.4)\n",
            "Requirement already satisfied: tzdata>=2022.1 in /usr/local/lib/python3.10/dist-packages (from pandas->datasets) (2024.1)\n",
            "Requirement already satisfied: six>=1.5 in /usr/local/lib/python3.10/dist-packages (from python-dateutil>=2.8.2->pandas->datasets) (1.16.0)\n",
            "Requirement already satisfied: evaluate in /usr/local/lib/python3.10/dist-packages (0.4.2)\n",
            "Requirement already satisfied: datasets>=2.0.0 in /usr/local/lib/python3.10/dist-packages (from evaluate) (2.19.1)\n",
            "Requirement already satisfied: numpy>=1.17 in /usr/local/lib/python3.10/dist-packages (from evaluate) (1.25.2)\n",
            "Requirement already satisfied: dill in /usr/local/lib/python3.10/dist-packages (from evaluate) (0.3.8)\n",
            "Requirement already satisfied: pandas in /usr/local/lib/python3.10/dist-packages (from evaluate) (2.0.3)\n",
            "Requirement already satisfied: requests>=2.19.0 in /usr/local/lib/python3.10/dist-packages (from evaluate) (2.31.0)\n",
            "Requirement already satisfied: tqdm>=4.62.1 in /usr/local/lib/python3.10/dist-packages (from evaluate) (4.66.4)\n",
            "Requirement already satisfied: xxhash in /usr/local/lib/python3.10/dist-packages (from evaluate) (3.4.1)\n",
            "Requirement already satisfied: multiprocess in /usr/local/lib/python3.10/dist-packages (from evaluate) (0.70.16)\n",
            "Requirement already satisfied: fsspec[http]>=2021.05.0 in /usr/local/lib/python3.10/dist-packages (from evaluate) (2023.6.0)\n",
            "Requirement already satisfied: huggingface-hub>=0.7.0 in /usr/local/lib/python3.10/dist-packages (from evaluate) (0.23.0)\n",
            "Requirement already satisfied: packaging in /usr/local/lib/python3.10/dist-packages (from evaluate) (24.0)\n",
            "Requirement already satisfied: filelock in /usr/local/lib/python3.10/dist-packages (from datasets>=2.0.0->evaluate) (3.14.0)\n",
            "Requirement already satisfied: pyarrow>=12.0.0 in /usr/local/lib/python3.10/dist-packages (from datasets>=2.0.0->evaluate) (14.0.2)\n",
            "Requirement already satisfied: pyarrow-hotfix in /usr/local/lib/python3.10/dist-packages (from datasets>=2.0.0->evaluate) (0.6)\n",
            "Requirement already satisfied: aiohttp in /usr/local/lib/python3.10/dist-packages (from datasets>=2.0.0->evaluate) (3.9.5)\n",
            "Requirement already satisfied: pyyaml>=5.1 in /usr/local/lib/python3.10/dist-packages (from datasets>=2.0.0->evaluate) (6.0.1)\n",
            "Requirement already satisfied: typing-extensions>=3.7.4.3 in /usr/local/lib/python3.10/dist-packages (from huggingface-hub>=0.7.0->evaluate) (4.11.0)\n",
            "Requirement already satisfied: charset-normalizer<4,>=2 in /usr/local/lib/python3.10/dist-packages (from requests>=2.19.0->evaluate) (3.3.2)\n",
            "Requirement already satisfied: idna<4,>=2.5 in /usr/local/lib/python3.10/dist-packages (from requests>=2.19.0->evaluate) (3.7)\n",
            "Requirement already satisfied: urllib3<3,>=1.21.1 in /usr/local/lib/python3.10/dist-packages (from requests>=2.19.0->evaluate) (2.0.7)\n",
            "Requirement already satisfied: certifi>=2017.4.17 in /usr/local/lib/python3.10/dist-packages (from requests>=2.19.0->evaluate) (2024.2.2)\n",
            "Requirement already satisfied: python-dateutil>=2.8.2 in /usr/local/lib/python3.10/dist-packages (from pandas->evaluate) (2.8.2)\n",
            "Requirement already satisfied: pytz>=2020.1 in /usr/local/lib/python3.10/dist-packages (from pandas->evaluate) (2023.4)\n",
            "Requirement already satisfied: tzdata>=2022.1 in /usr/local/lib/python3.10/dist-packages (from pandas->evaluate) (2024.1)\n",
            "Requirement already satisfied: aiosignal>=1.1.2 in /usr/local/lib/python3.10/dist-packages (from aiohttp->datasets>=2.0.0->evaluate) (1.3.1)\n",
            "Requirement already satisfied: attrs>=17.3.0 in /usr/local/lib/python3.10/dist-packages (from aiohttp->datasets>=2.0.0->evaluate) (23.2.0)\n",
            "Requirement already satisfied: frozenlist>=1.1.1 in /usr/local/lib/python3.10/dist-packages (from aiohttp->datasets>=2.0.0->evaluate) (1.4.1)\n",
            "Requirement already satisfied: multidict<7.0,>=4.5 in /usr/local/lib/python3.10/dist-packages (from aiohttp->datasets>=2.0.0->evaluate) (6.0.5)\n",
            "Requirement already satisfied: yarl<2.0,>=1.0 in /usr/local/lib/python3.10/dist-packages (from aiohttp->datasets>=2.0.0->evaluate) (1.9.4)\n",
            "Requirement already satisfied: async-timeout<5.0,>=4.0 in /usr/local/lib/python3.10/dist-packages (from aiohttp->datasets>=2.0.0->evaluate) (4.0.3)\n",
            "Requirement already satisfied: six>=1.5 in /usr/local/lib/python3.10/dist-packages (from python-dateutil>=2.8.2->pandas->evaluate) (1.16.0)\n",
            "Requirement already satisfied: sentencepiece in /usr/local/lib/python3.10/dist-packages (0.1.99)\n",
            "\u001b[31mERROR: Could not find a version that satisfies the requirement InstructABSA (from versions: none)\u001b[0m\u001b[31m\n",
            "\u001b[0m\u001b[31mERROR: No matching distribution found for InstructABSA\u001b[0m\u001b[31m\n",
            "\u001b[0m"
          ]
        }
      ]
    },
    {
      "cell_type": "code",
      "source": [
        "try:\n",
        "    import google.colab\n",
        "    from google.colab import drive\n",
        "    drive.mount('/content/drive', force_remount = True)\n",
        "    IN_COLAB = True\n",
        "except:\n",
        "    IN_COLAB = False\n",
        "\n",
        "\n",
        "import os\n",
        "import torch\n",
        "\n",
        "\n",
        "import warnings\n",
        "warnings.filterwarnings('ignore')\n",
        "import pandas as pd\n",
        "\n",
        "if IN_COLAB:\n",
        "  !pip install transformers\n",
        "  !pip install datasets\n",
        "  !pip install evaluate\n",
        "  !pip install sentencepiece\n",
        "  !pip install InstructABSA\n",
        "# Load package\n",
        "from InstructABSA.data_prep import DatasetLoader\n",
        "from InstructABSA.utils import T5Generator, T5Classifier\n",
        "from instructions import InstructionsHandler"
      ],
      "metadata": {
        "colab": {
          "base_uri": "https://localhost:8080/",
          "height": 1000
        },
        "id": "BSguC3RvJndG",
        "outputId": "7668953c-11c7-457b-afbd-313b41f94a7b"
      },
      "execution_count": 25,
      "outputs": [
        {
          "output_type": "stream",
          "name": "stdout",
          "text": [
            "Mounted at /content/drive\n",
            "Requirement already satisfied: transformers in /usr/local/lib/python3.10/dist-packages (4.40.1)\n",
            "Requirement already satisfied: filelock in /usr/local/lib/python3.10/dist-packages (from transformers) (3.14.0)\n",
            "Requirement already satisfied: huggingface-hub<1.0,>=0.19.3 in /usr/local/lib/python3.10/dist-packages (from transformers) (0.23.0)\n",
            "Requirement already satisfied: numpy>=1.17 in /usr/local/lib/python3.10/dist-packages (from transformers) (1.25.2)\n",
            "Requirement already satisfied: packaging>=20.0 in /usr/local/lib/python3.10/dist-packages (from transformers) (24.0)\n",
            "Requirement already satisfied: pyyaml>=5.1 in /usr/local/lib/python3.10/dist-packages (from transformers) (6.0.1)\n",
            "Requirement already satisfied: regex!=2019.12.17 in /usr/local/lib/python3.10/dist-packages (from transformers) (2023.12.25)\n",
            "Requirement already satisfied: requests in /usr/local/lib/python3.10/dist-packages (from transformers) (2.31.0)\n",
            "Requirement already satisfied: tokenizers<0.20,>=0.19 in /usr/local/lib/python3.10/dist-packages (from transformers) (0.19.1)\n",
            "Requirement already satisfied: safetensors>=0.4.1 in /usr/local/lib/python3.10/dist-packages (from transformers) (0.4.3)\n",
            "Requirement already satisfied: tqdm>=4.27 in /usr/local/lib/python3.10/dist-packages (from transformers) (4.66.4)\n",
            "Requirement already satisfied: fsspec>=2023.5.0 in /usr/local/lib/python3.10/dist-packages (from huggingface-hub<1.0,>=0.19.3->transformers) (2023.6.0)\n",
            "Requirement already satisfied: typing-extensions>=3.7.4.3 in /usr/local/lib/python3.10/dist-packages (from huggingface-hub<1.0,>=0.19.3->transformers) (4.11.0)\n",
            "Requirement already satisfied: charset-normalizer<4,>=2 in /usr/local/lib/python3.10/dist-packages (from requests->transformers) (3.3.2)\n",
            "Requirement already satisfied: idna<4,>=2.5 in /usr/local/lib/python3.10/dist-packages (from requests->transformers) (3.7)\n",
            "Requirement already satisfied: urllib3<3,>=1.21.1 in /usr/local/lib/python3.10/dist-packages (from requests->transformers) (2.0.7)\n",
            "Requirement already satisfied: certifi>=2017.4.17 in /usr/local/lib/python3.10/dist-packages (from requests->transformers) (2024.2.2)\n",
            "Requirement already satisfied: datasets in /usr/local/lib/python3.10/dist-packages (2.19.1)\n",
            "Requirement already satisfied: filelock in /usr/local/lib/python3.10/dist-packages (from datasets) (3.14.0)\n",
            "Requirement already satisfied: numpy>=1.17 in /usr/local/lib/python3.10/dist-packages (from datasets) (1.25.2)\n",
            "Requirement already satisfied: pyarrow>=12.0.0 in /usr/local/lib/python3.10/dist-packages (from datasets) (14.0.2)\n",
            "Requirement already satisfied: pyarrow-hotfix in /usr/local/lib/python3.10/dist-packages (from datasets) (0.6)\n",
            "Requirement already satisfied: dill<0.3.9,>=0.3.0 in /usr/local/lib/python3.10/dist-packages (from datasets) (0.3.8)\n",
            "Requirement already satisfied: pandas in /usr/local/lib/python3.10/dist-packages (from datasets) (2.0.3)\n",
            "Requirement already satisfied: requests>=2.19.0 in /usr/local/lib/python3.10/dist-packages (from datasets) (2.31.0)\n",
            "Requirement already satisfied: tqdm>=4.62.1 in /usr/local/lib/python3.10/dist-packages (from datasets) (4.66.4)\n",
            "Requirement already satisfied: xxhash in /usr/local/lib/python3.10/dist-packages (from datasets) (3.4.1)\n",
            "Requirement already satisfied: multiprocess in /usr/local/lib/python3.10/dist-packages (from datasets) (0.70.16)\n",
            "Requirement already satisfied: fsspec[http]<=2024.3.1,>=2023.1.0 in /usr/local/lib/python3.10/dist-packages (from datasets) (2023.6.0)\n",
            "Requirement already satisfied: aiohttp in /usr/local/lib/python3.10/dist-packages (from datasets) (3.9.5)\n",
            "Requirement already satisfied: huggingface-hub>=0.21.2 in /usr/local/lib/python3.10/dist-packages (from datasets) (0.23.0)\n",
            "Requirement already satisfied: packaging in /usr/local/lib/python3.10/dist-packages (from datasets) (24.0)\n",
            "Requirement already satisfied: pyyaml>=5.1 in /usr/local/lib/python3.10/dist-packages (from datasets) (6.0.1)\n",
            "Requirement already satisfied: aiosignal>=1.1.2 in /usr/local/lib/python3.10/dist-packages (from aiohttp->datasets) (1.3.1)\n",
            "Requirement already satisfied: attrs>=17.3.0 in /usr/local/lib/python3.10/dist-packages (from aiohttp->datasets) (23.2.0)\n",
            "Requirement already satisfied: frozenlist>=1.1.1 in /usr/local/lib/python3.10/dist-packages (from aiohttp->datasets) (1.4.1)\n",
            "Requirement already satisfied: multidict<7.0,>=4.5 in /usr/local/lib/python3.10/dist-packages (from aiohttp->datasets) (6.0.5)\n",
            "Requirement already satisfied: yarl<2.0,>=1.0 in /usr/local/lib/python3.10/dist-packages (from aiohttp->datasets) (1.9.4)\n",
            "Requirement already satisfied: async-timeout<5.0,>=4.0 in /usr/local/lib/python3.10/dist-packages (from aiohttp->datasets) (4.0.3)\n",
            "Requirement already satisfied: typing-extensions>=3.7.4.3 in /usr/local/lib/python3.10/dist-packages (from huggingface-hub>=0.21.2->datasets) (4.11.0)\n",
            "Requirement already satisfied: charset-normalizer<4,>=2 in /usr/local/lib/python3.10/dist-packages (from requests>=2.19.0->datasets) (3.3.2)\n",
            "Requirement already satisfied: idna<4,>=2.5 in /usr/local/lib/python3.10/dist-packages (from requests>=2.19.0->datasets) (3.7)\n",
            "Requirement already satisfied: urllib3<3,>=1.21.1 in /usr/local/lib/python3.10/dist-packages (from requests>=2.19.0->datasets) (2.0.7)\n",
            "Requirement already satisfied: certifi>=2017.4.17 in /usr/local/lib/python3.10/dist-packages (from requests>=2.19.0->datasets) (2024.2.2)\n",
            "Requirement already satisfied: python-dateutil>=2.8.2 in /usr/local/lib/python3.10/dist-packages (from pandas->datasets) (2.8.2)\n",
            "Requirement already satisfied: pytz>=2020.1 in /usr/local/lib/python3.10/dist-packages (from pandas->datasets) (2023.4)\n",
            "Requirement already satisfied: tzdata>=2022.1 in /usr/local/lib/python3.10/dist-packages (from pandas->datasets) (2024.1)\n",
            "Requirement already satisfied: six>=1.5 in /usr/local/lib/python3.10/dist-packages (from python-dateutil>=2.8.2->pandas->datasets) (1.16.0)\n",
            "Requirement already satisfied: evaluate in /usr/local/lib/python3.10/dist-packages (0.4.2)\n",
            "Requirement already satisfied: datasets>=2.0.0 in /usr/local/lib/python3.10/dist-packages (from evaluate) (2.19.1)\n",
            "Requirement already satisfied: numpy>=1.17 in /usr/local/lib/python3.10/dist-packages (from evaluate) (1.25.2)\n",
            "Requirement already satisfied: dill in /usr/local/lib/python3.10/dist-packages (from evaluate) (0.3.8)\n",
            "Requirement already satisfied: pandas in /usr/local/lib/python3.10/dist-packages (from evaluate) (2.0.3)\n",
            "Requirement already satisfied: requests>=2.19.0 in /usr/local/lib/python3.10/dist-packages (from evaluate) (2.31.0)\n",
            "Requirement already satisfied: tqdm>=4.62.1 in /usr/local/lib/python3.10/dist-packages (from evaluate) (4.66.4)\n",
            "Requirement already satisfied: xxhash in /usr/local/lib/python3.10/dist-packages (from evaluate) (3.4.1)\n",
            "Requirement already satisfied: multiprocess in /usr/local/lib/python3.10/dist-packages (from evaluate) (0.70.16)\n",
            "Requirement already satisfied: fsspec[http]>=2021.05.0 in /usr/local/lib/python3.10/dist-packages (from evaluate) (2023.6.0)\n",
            "Requirement already satisfied: huggingface-hub>=0.7.0 in /usr/local/lib/python3.10/dist-packages (from evaluate) (0.23.0)\n",
            "Requirement already satisfied: packaging in /usr/local/lib/python3.10/dist-packages (from evaluate) (24.0)\n",
            "Requirement already satisfied: filelock in /usr/local/lib/python3.10/dist-packages (from datasets>=2.0.0->evaluate) (3.14.0)\n",
            "Requirement already satisfied: pyarrow>=12.0.0 in /usr/local/lib/python3.10/dist-packages (from datasets>=2.0.0->evaluate) (14.0.2)\n",
            "Requirement already satisfied: pyarrow-hotfix in /usr/local/lib/python3.10/dist-packages (from datasets>=2.0.0->evaluate) (0.6)\n",
            "Requirement already satisfied: aiohttp in /usr/local/lib/python3.10/dist-packages (from datasets>=2.0.0->evaluate) (3.9.5)\n",
            "Requirement already satisfied: pyyaml>=5.1 in /usr/local/lib/python3.10/dist-packages (from datasets>=2.0.0->evaluate) (6.0.1)\n",
            "Requirement already satisfied: typing-extensions>=3.7.4.3 in /usr/local/lib/python3.10/dist-packages (from huggingface-hub>=0.7.0->evaluate) (4.11.0)\n",
            "Requirement already satisfied: charset-normalizer<4,>=2 in /usr/local/lib/python3.10/dist-packages (from requests>=2.19.0->evaluate) (3.3.2)\n",
            "Requirement already satisfied: idna<4,>=2.5 in /usr/local/lib/python3.10/dist-packages (from requests>=2.19.0->evaluate) (3.7)\n",
            "Requirement already satisfied: urllib3<3,>=1.21.1 in /usr/local/lib/python3.10/dist-packages (from requests>=2.19.0->evaluate) (2.0.7)\n",
            "Requirement already satisfied: certifi>=2017.4.17 in /usr/local/lib/python3.10/dist-packages (from requests>=2.19.0->evaluate) (2024.2.2)\n",
            "Requirement already satisfied: python-dateutil>=2.8.2 in /usr/local/lib/python3.10/dist-packages (from pandas->evaluate) (2.8.2)\n",
            "Requirement already satisfied: pytz>=2020.1 in /usr/local/lib/python3.10/dist-packages (from pandas->evaluate) (2023.4)\n",
            "Requirement already satisfied: tzdata>=2022.1 in /usr/local/lib/python3.10/dist-packages (from pandas->evaluate) (2024.1)\n",
            "Requirement already satisfied: aiosignal>=1.1.2 in /usr/local/lib/python3.10/dist-packages (from aiohttp->datasets>=2.0.0->evaluate) (1.3.1)\n",
            "Requirement already satisfied: attrs>=17.3.0 in /usr/local/lib/python3.10/dist-packages (from aiohttp->datasets>=2.0.0->evaluate) (23.2.0)\n",
            "Requirement already satisfied: frozenlist>=1.1.1 in /usr/local/lib/python3.10/dist-packages (from aiohttp->datasets>=2.0.0->evaluate) (1.4.1)\n",
            "Requirement already satisfied: multidict<7.0,>=4.5 in /usr/local/lib/python3.10/dist-packages (from aiohttp->datasets>=2.0.0->evaluate) (6.0.5)\n",
            "Requirement already satisfied: yarl<2.0,>=1.0 in /usr/local/lib/python3.10/dist-packages (from aiohttp->datasets>=2.0.0->evaluate) (1.9.4)\n",
            "Requirement already satisfied: async-timeout<5.0,>=4.0 in /usr/local/lib/python3.10/dist-packages (from aiohttp->datasets>=2.0.0->evaluate) (4.0.3)\n",
            "Requirement already satisfied: six>=1.5 in /usr/local/lib/python3.10/dist-packages (from python-dateutil>=2.8.2->pandas->evaluate) (1.16.0)\n",
            "Requirement already satisfied: sentencepiece in /usr/local/lib/python3.10/dist-packages (0.1.99)\n",
            "\u001b[31mERROR: Could not find a version that satisfies the requirement InstructABSA (from versions: none)\u001b[0m\u001b[31m\n",
            "\u001b[0m\u001b[31mERROR: No matching distribution found for InstructABSA\u001b[0m\u001b[31m\n",
            "\u001b[0m"
          ]
        },
        {
          "output_type": "error",
          "ename": "ModuleNotFoundError",
          "evalue": "No module named 'InstructABSA'",
          "traceback": [
            "\u001b[0;31m---------------------------------------------------------------------------\u001b[0m",
            "\u001b[0;31mModuleNotFoundError\u001b[0m                       Traceback (most recent call last)",
            "\u001b[0;32m<ipython-input-25-994fc54d1cf5>\u001b[0m in \u001b[0;36m<cell line: 25>\u001b[0;34m()\u001b[0m\n\u001b[1;32m     23\u001b[0m   \u001b[0mget_ipython\u001b[0m\u001b[0;34m(\u001b[0m\u001b[0;34m)\u001b[0m\u001b[0;34m.\u001b[0m\u001b[0msystem\u001b[0m\u001b[0;34m(\u001b[0m\u001b[0;34m'pip install InstructABSA'\u001b[0m\u001b[0;34m)\u001b[0m\u001b[0;34m\u001b[0m\u001b[0;34m\u001b[0m\u001b[0m\n\u001b[1;32m     24\u001b[0m \u001b[0;31m# Load package\u001b[0m\u001b[0;34m\u001b[0m\u001b[0;34m\u001b[0m\u001b[0m\n\u001b[0;32m---> 25\u001b[0;31m \u001b[0;32mfrom\u001b[0m \u001b[0mInstructABSA\u001b[0m\u001b[0;34m.\u001b[0m\u001b[0mdata_prep\u001b[0m \u001b[0;32mimport\u001b[0m \u001b[0mDatasetLoader\u001b[0m\u001b[0;34m\u001b[0m\u001b[0;34m\u001b[0m\u001b[0m\n\u001b[0m\u001b[1;32m     26\u001b[0m \u001b[0;32mfrom\u001b[0m \u001b[0mInstructABSA\u001b[0m\u001b[0;34m.\u001b[0m\u001b[0mutils\u001b[0m \u001b[0;32mimport\u001b[0m \u001b[0mT5Generator\u001b[0m\u001b[0;34m,\u001b[0m \u001b[0mT5Classifier\u001b[0m\u001b[0;34m\u001b[0m\u001b[0;34m\u001b[0m\u001b[0m\n\u001b[1;32m     27\u001b[0m \u001b[0;32mfrom\u001b[0m \u001b[0minstructions\u001b[0m \u001b[0;32mimport\u001b[0m \u001b[0mInstructionsHandler\u001b[0m\u001b[0;34m\u001b[0m\u001b[0;34m\u001b[0m\u001b[0m\n",
            "\u001b[0;31mModuleNotFoundError\u001b[0m: No module named 'InstructABSA'",
            "",
            "\u001b[0;31m---------------------------------------------------------------------------\u001b[0;32m\nNOTE: If your import is failing due to a missing package, you can\nmanually install dependencies using either !pip or !apt.\n\nTo view examples of installing some common dependencies, click the\n\"Open Examples\" button below.\n\u001b[0;31m---------------------------------------------------------------------------\u001b[0m\n"
          ],
          "errorDetails": {
            "actions": [
              {
                "action": "open_url",
                "actionText": "Open Examples",
                "url": "/notebooks/snippets/importing_libraries.ipynb"
              }
            ]
          }
        }
      ]
    },
    {
      "cell_type": "code",
      "source": [
        "aspect_keywords = {\n",
        "    \"camera\": [\"camera\", \"photo\", \"picture\"],\n",
        "    \"battery\": [\"battery\", \"power\", \"charge\"],\n",
        "    \"screen\": [\"screen\", \"display\", \"size\"],\n",
        "    \"software\": [\"software\", \"OS\", \"bug\"],\n",
        "    \"design\": [\"design\", \"look\", \"appearance\"],\n",
        "    \"speaker\": [\"speaker\", \"sound\", \"volume\"]\n",
        "}"
      ],
      "metadata": {
        "id": "JIS1FvDuP0hU"
      },
      "execution_count": null,
      "outputs": []
    },
    {
      "cell_type": "code",
      "source": [
        "# Empty dictionary to store aspects and their corresponding words/phrases\n",
        "aspect_words = {aspect: [] for aspect in aspect_keywords}\n",
        "\n",
        "# Function to extract words/phrases associated with each aspect from a review and save them\n",
        "def extract_and_save_words(review):\n",
        "    for aspect, keywords in aspect_keywords.items():\n",
        "        for keyword in keywords:\n",
        "            if keyword in review.lower():\n",
        "                # Split the review into words\n",
        "                words = review.split()\n",
        "                # Add words related to the aspect to the list\n",
        "                aspect_words[aspect].extend([word.strip(\",.\") for word in words if keyword in word.lower()])"
      ],
      "metadata": {
        "id": "oFgtc7byP3ux"
      },
      "execution_count": null,
      "outputs": []
    },
    {
      "cell_type": "code",
      "source": [
        "# Extract words/phrases associated with each aspect from each review and save them\n",
        "for review in df['review_text']:\n",
        "    extract_and_save_words(review)\n",
        "\n",
        "# Print the aspects and their corresponding words/phrases\n",
        "for aspect, words in aspect_words.items():\n",
        "    print(f\"Aspect: {aspect}, Words: {', '.join(words)}\")"
      ],
      "metadata": {
        "colab": {
          "base_uri": "https://localhost:8080/",
          "height": 326
        },
        "id": "boSGMh7fP52S",
        "outputId": "26b46c23-a8f0-4877-8307-8dadc951769e"
      },
      "execution_count": null,
      "outputs": [
        {
          "output_type": "error",
          "ename": "AttributeError",
          "evalue": "'list' object has no attribute 'lower'",
          "traceback": [
            "\u001b[0;31m---------------------------------------------------------------------------\u001b[0m",
            "\u001b[0;31mAttributeError\u001b[0m                            Traceback (most recent call last)",
            "\u001b[0;32m<ipython-input-64-095439424eb2>\u001b[0m in \u001b[0;36m<cell line: 2>\u001b[0;34m()\u001b[0m\n\u001b[1;32m      1\u001b[0m \u001b[0;31m# Extract words/phrases associated with each aspect from each review and save them\u001b[0m\u001b[0;34m\u001b[0m\u001b[0;34m\u001b[0m\u001b[0m\n\u001b[1;32m      2\u001b[0m \u001b[0;32mfor\u001b[0m \u001b[0mreview\u001b[0m \u001b[0;32min\u001b[0m \u001b[0mdf\u001b[0m\u001b[0;34m[\u001b[0m\u001b[0;34m'review_text'\u001b[0m\u001b[0;34m]\u001b[0m\u001b[0;34m:\u001b[0m\u001b[0;34m\u001b[0m\u001b[0;34m\u001b[0m\u001b[0m\n\u001b[0;32m----> 3\u001b[0;31m     \u001b[0mextract_and_save_words\u001b[0m\u001b[0;34m(\u001b[0m\u001b[0mreview\u001b[0m\u001b[0;34m)\u001b[0m\u001b[0;34m\u001b[0m\u001b[0;34m\u001b[0m\u001b[0m\n\u001b[0m\u001b[1;32m      4\u001b[0m \u001b[0;34m\u001b[0m\u001b[0m\n\u001b[1;32m      5\u001b[0m \u001b[0;31m# Print the aspects and their corresponding words/phrases\u001b[0m\u001b[0;34m\u001b[0m\u001b[0;34m\u001b[0m\u001b[0m\n",
            "\u001b[0;32m<ipython-input-63-9ed89de50e43>\u001b[0m in \u001b[0;36mextract_and_save_words\u001b[0;34m(review)\u001b[0m\n\u001b[1;32m      6\u001b[0m     \u001b[0;32mfor\u001b[0m \u001b[0maspect\u001b[0m\u001b[0;34m,\u001b[0m \u001b[0mkeywords\u001b[0m \u001b[0;32min\u001b[0m \u001b[0maspect_keywords\u001b[0m\u001b[0;34m.\u001b[0m\u001b[0mitems\u001b[0m\u001b[0;34m(\u001b[0m\u001b[0;34m)\u001b[0m\u001b[0;34m:\u001b[0m\u001b[0;34m\u001b[0m\u001b[0;34m\u001b[0m\u001b[0m\n\u001b[1;32m      7\u001b[0m         \u001b[0;32mfor\u001b[0m \u001b[0mkeyword\u001b[0m \u001b[0;32min\u001b[0m \u001b[0mkeywords\u001b[0m\u001b[0;34m:\u001b[0m\u001b[0;34m\u001b[0m\u001b[0;34m\u001b[0m\u001b[0m\n\u001b[0;32m----> 8\u001b[0;31m             \u001b[0;32mif\u001b[0m \u001b[0mkeyword\u001b[0m \u001b[0;32min\u001b[0m \u001b[0mreview\u001b[0m\u001b[0;34m.\u001b[0m\u001b[0mlower\u001b[0m\u001b[0;34m(\u001b[0m\u001b[0;34m)\u001b[0m\u001b[0;34m:\u001b[0m\u001b[0;34m\u001b[0m\u001b[0;34m\u001b[0m\u001b[0m\n\u001b[0m\u001b[1;32m      9\u001b[0m                 \u001b[0;31m# Split the review into words\u001b[0m\u001b[0;34m\u001b[0m\u001b[0;34m\u001b[0m\u001b[0m\n\u001b[1;32m     10\u001b[0m                 \u001b[0mwords\u001b[0m \u001b[0;34m=\u001b[0m \u001b[0mreview\u001b[0m\u001b[0;34m.\u001b[0m\u001b[0msplit\u001b[0m\u001b[0;34m(\u001b[0m\u001b[0;34m)\u001b[0m\u001b[0;34m\u001b[0m\u001b[0;34m\u001b[0m\u001b[0m\n",
            "\u001b[0;31mAttributeError\u001b[0m: 'list' object has no attribute 'lower'"
          ]
        }
      ]
    },
    {
      "cell_type": "code",
      "source": [
        "# Train the CBOW model\n",
        "model = Word2Vec(df['review_text'], vector_size=100, window=5, min_count=1, sg=0)  # sg=0 specifies CBOW\n",
        "\n",
        "# Find 'Semantically Close' Words\n",
        "def find_closest_words(input_word, topn=10):\n",
        "    if input_word in model.wv.key_to_index:\n",
        "        # Find the topn most similar words\n",
        "        similar_words = model.wv.most_similar(positive=[input_word], topn=topn)\n",
        "        return similar_words  # This returns a list of tuples (word, similarity)\n",
        "    else:\n",
        "        return f\"The word '{input_word}' is not in the vocabulary.\""
      ],
      "metadata": {
        "id": "ckmpCFHPPmSx"
      },
      "execution_count": null,
      "outputs": []
    },
    {
      "cell_type": "code",
      "source": [
        "# Function to extract words/phrases associated with each aspect from a review and save them\n",
        "def extract_and_save_words(review):\n",
        "    for aspect, keywords in aspect_keywords.items():\n",
        "        for keyword in keywords:\n",
        "            if keyword in review:\n",
        "                # Split the review into words\n",
        "                words = review.split()\n",
        "                # Find words related to the aspect using word embeddings\n",
        "                aspect_related_words = []\n",
        "                for word in words:\n",
        "                    if word in model.wv.key_to_index:\n",
        "                        # Calculate cosine similarity between the word and aspect keyword\n",
        "                        similarity = model.wv.key_to_index.similarity(keyword, word)\n",
        "                        # Threshold for considering a word related to the aspect\n",
        "                        if similarity > 0.5:\n",
        "                            aspect_related_words.append(word)\n",
        "                # Add related words to the list\n",
        "                aspect_words[aspect].extend(aspect_related_words)"
      ],
      "metadata": {
        "id": "FYK0tPnyakFm"
      },
      "execution_count": null,
      "outputs": []
    }
  ]
}
